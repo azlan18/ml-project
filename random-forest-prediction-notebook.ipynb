{
 "cells": [
  {
   "cell_type": "markdown",
   "metadata": {},
   "source": [
    "# IMDB Movie Box Office Prediction using Random Forest Regression"
   ]
  },
  {
   "cell_type": "code",
   "execution_count": null,
   "metadata": {},
   "outputs": [],
   "source": [
    "# Import required libraries\n",
    "import pandas as pd\n",
    "import numpy as np\n",
    "import matplotlib.pyplot as plt\n",
    "import seaborn as sns\n",
    "\n",
    "# Sklearn imports\n",
    "from sklearn.model_selection import train_test_split\n",
    "from sklearn.ensemble import RandomForestRegressor\n",
    "from sklearn.preprocessing import OneHotEncoder\n",
    "from sklearn.compose import ColumnTransformer\n",
    "from sklearn.pipeline import Pipeline\n",
    "from sklearn.metrics import mean_absolute_error, mean_squared_error, r2_score"
   ]
  },
  {
   "cell_type": "markdown",
   "metadata": {},
   "source": [
    "## Data Loading and Preprocessing"
   ]
  },
  {
   "cell_type": "code",
   "execution_count": null,
   "metadata": {},
   "outputs": [],
   "source": [
    "# Load the IMDB dataset\n",
    "def load_and_preprocess_data(filepath):\n",
    "    # Read dataset\n",
    "    data = pd.read_csv(filepath)\n",
    "    \n",
    "    # Renaming relevant columns\n",
    "    data.rename(columns={\n",
    "        'Released_Year':'Release Year',\n",
    "        'Certificate':'Age Rating',\n",
    "        'IMDB_Rating':'IMDB Rating',\n",
    "        'Meta_score':'Metascore',\n",
    "        'No_of_Votes':'Votes',\n",
    "        'Gross':'Gross Revenue'\n",
    "    }, inplace=True)\n",
    "    \n",
    "    # Removing rows where Gross Revenue is null\n",
    "    data = data[data['Gross Revenue'].notnull()]\n",
    "    \n",
    "    # Standardizing Age Rating\n",
    "    data['Age Rating'] = data['Age Rating'].map({\n",
    "        'U':'U', 'G':'U', 'PG':'U', 'GP':'U', 'TV-PG':'U',\n",
    "        'UA':'UA', 'PG-13':'UA', 'U/A':'UA', 'Passed':'UA', 'Approved':'UA',\n",
    "        'A':'A', 'R':'A'\n",
    "    })\n",
    "    data = data[data['Age Rating'].notnull()]\n",
    "    \n",
    "    # Filtering and cleaning Release Year\n",
    "    data = data[data['Release Year'].str.match(r'\\d\\d\\d\\d')]\n",
    "    data['Release Year'] = data['Release Year'].astype(int)\n",
    "    \n",
    "    # Converting Runtime\n",
    "    data['Runtime'] = data['Runtime'].str[:-4].astype(int)\n",
    "    \n",
    "    # Converting Gross Revenue to millions\n",
    "    data['Gross Revenue'] = data['Gross Revenue'].str.replace(',','').astype(float) * (10**-6)\n",
    "    \n",
    "    # Count and primary genre\n",
    "    data['Genres'] = data['Genre'].apply(lambda x: len(x.split(', ')))\n",
    "    data['Primary Genre'] = data['Genre'].str.split(', ').str[0]\n",
    "    data.drop('Genre', axis=1, inplace=True)\n",
    "    \n",
    "    # Binary Metascore existence\n",
    "    data['Metascore Exists'] = data['Metascore'].notnull()\n",
    "    data.drop('Metascore', axis=1, inplace=True)\n",
    "    \n",
    "    return data\n",
    "\n",
    "# Load the data\n",
    "data = load_and_preprocess_data('imdb_dataset.csv')"
   ]
  },
  {
   "cell_type": "markdown",
   "metadata": {},
   "source": [
    "## Exploratory Data Analysis"
   ]
  },
  {
   "cell_type": "code",
   "execution_count": null,
   "metadata": {},
   "outputs": [],
   "source": [
    "# Basic data overview\n",
    "print(data.info())\n",
    "\n",
    "# Descriptive statistics\n",
    "print(data[['Release Year', 'Runtime', 'IMDB Rating', 'Gross Revenue']].describe())"
   ]
  },
  {
   "cell_type": "code",
   "execution_count": null,
   "metadata": {},
   "outputs": [],
   "source": [
    "# Visualization of Gross Revenue distribution\n",
    "plt.figure(figsize=(10, 6))\n",
    "sns.histplot(data['Gross Revenue'], kde=True)\n",
    "plt.title('Distribution of Gross Revenue')\n",
    "plt.xlabel('Gross Revenue (Millions)')\n",
    "plt.show()"
   ]
  },
  {
   "cell_type": "markdown",
   "metadata": {},
   "source": [
    "## Prepare Data for Modeling"
   ]
  },
  {
   "cell_type": "code",
   "execution_count": null,
   "metadata": {},
   "outputs": [],
   "source": [
    "# Prepare features and target\n",
    "X = data[['Release Year', 'Age Rating', 'Runtime', 'IMDB Rating', 'Votes', 'Metascore Exists', 'Genres', 'Primary Genre']]\n",
    "y = data['Gross Revenue']\n",
    "\n",
    "# Split the data\n",
    "X_train, X_test, y_train, y_test = train_test_split(X, y, test_size=0.2, random_state=42)"
   ]
  },
  {
   "cell_type": "markdown",
   "metadata": {},
   "source": [
    "## Create Preprocessing and Model Pipeline"
   ]
  },
  {
   "cell_type": "code",
   "execution_count": null,
   "metadata": {},
   "outputs": [],
   "source": [
    "# Create preprocessor\n",
    "preprocessor = ColumnTransformer(\n",
    "    transformers=[\n",
    "        ('cat', OneHotEncoder(handle_unknown='ignore'), ['Age Rating', 'Primary Genre']),\n",
    "        ('num', 'passthrough', ['Release Year', 'Runtime', 'IMDB Rating', 'Votes', 'Metascore Exists', 'Genres'])\n",
    "    ]\n",
    ")\n",
    "\n",
    "# Create Random Forest Regressor\n",
    "rf_model = Pipeline(steps=[\n",
    "    ('preprocessor', preprocessor),\n",
    "    ('regressor', RandomForestRegressor(\n",
    "        n_estimators=100,\n",
    "        random_state=42,\n",
    "        max_depth=10,\n",
    "        min_samples_split=5,\n",
    "        min_samples_leaf=2\n",
    "    ))\n",
    "])\n",
    "\n",
    "# Fit the model\n",
    "rf_model.fit(X_train, y_train)"
   ]
  },
  {
   "cell_type": "markdown",
   "metadata": {},
   "source": [
    "## Model Evaluation"
   ]
  },
  {
   "cell_type": "code",
   "execution_count": null,
   "metadata": {},
   "outputs": [],
   "source": [
    "# Make predictions\n",
    "y_pred = rf_model.predict(X_test)\n",
    "\n",
    "# Evaluation metrics\n",
    "print(\"R² Score:\", r2_score(y_test, y_pred))\n",
    "print(\"Mean Absolute Error:\", mean_absolute_error(y_test, y_pred))\n",
    "print(\"Root Mean Squared Error:\", np.sqrt(mean_squared_error(y_test, y_pred)))"
   ]
  },
  {
   "cell_type": "markdown",
   "metadata": {},
   "source": [
    "## Feature Importance Visualization"
   ]
  },
  {
   "cell_type": "code",
   "execution_count": null,
   "metadata": {},
   "outputs": [],
   "source": [
    "# Extract feature names\n",
    "feature_names = (\n",
    "    list(preprocessor.named_transformers_['cat']\n",
    "         .get_feature_names_out(['Age Rating', 'Primary Genre']).tolist()) +\n",
    "    ['Release Year', 'Runtime', 'IMDB Rating', 'Votes', 'Metascore Exists', 'Genres']\n",
    ")\n",
    "\n",
    "# Get feature importances\n",
    "importances = rf_model.named_steps['regressor'].feature_importances_\n",
    "\n",
    "# Create DataFrame for visualization\n",
    "feature_importance = pd.DataFrame({\n",
    "    'feature': feature_names,\n",
    "    'importance': importances\n",
    "}).sort_values('importance', ascending=False)\n",
    "\n",
    "# Plot feature importances\n",
    "plt.figure(figsize=(10, 6))\n",
    "sns.barplot(x='importance', y='feature', data=feature_importance.head(10))\n",
    "plt.title('Top 10 Feature Importances in Random Forest Model')\n",
    "plt.xlabel('Importance Score')\n",
    "plt.tight_layout()\n",
    "plt.show()"
   ]
  },
  {
   "cell_type": "markdown",
   "metadata": {},
   "source": [
    "## Example Prediction"
   ]
  },
  {
   "cell_type": "code",
   "execution_count": null,
   "metadata": {},
   "outputs": [],
   "source": [
    "# Create a sample movie for prediction\n",
    "sample_movie = pd.DataFrame({\n",
    "    'Release Year': [2023],\n",
    "    'Age Rating': ['UA'],\n",
    "    'Runtime': [120],\n",
    "    'IMDB Rating': [7.5],\n",
    "    'Votes': [500000],\n",
    "    'Metascore Exists': [True],\n",
    "    'Genres': [2],\n",
    "    'Primary Genre': ['Action']\n",
    "})\n",
    "\n",
    "# Predict box office revenue\n",
    "predicted_revenue = rf_model.predict(sample_movie)\n",
    "print(f\"Predicted Box Office Revenue: ${predicted_revenue[0]:.2f} Million\")"
   ]
  }
 ],
 "metadata": {
  "kernelspec": {
   "display_name": "Python 3",
   "language": "python",
   "name": "python3"
  },
  "language_info": {
   "codemirror_mode": {
    "name": "ipython",
    "version": 3
   },
   "file_extension": ".py",
   "mimetype": "text/x-python",
   "name": "python",
   "nbconvert_exporter": "python",
   "pygments_lexer": "ipython3",
   "version": "3.8.5"
  }
 },
 "nbconvert_exporter": "python",
 "language_info": {
  "name": "python"
 }
}
